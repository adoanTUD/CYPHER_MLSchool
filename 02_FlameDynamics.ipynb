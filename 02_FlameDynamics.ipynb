{
 "cells": [
  {
   "cell_type": "markdown",
   "metadata": {
    "id": "tdaL6a4bmOyl"
   },
   "source": [
    "# Project: Flame Dynamics Identification\n",
    "\n",
    "In this project, you will have to develop a neural network that can learn the dynamics of a flame.\n",
    "More specifically, the flame dynamics represent how the heat release rate of a flame varies when it is subjected to velocity perturbation and has a strong impact on the overall stability of gas turbines or jet engines. Indeed, a coupling mechanism can occur between the velocity flucatuation, heat release fluctuation and the acoustics of the combustor leading to a phenomena called, _thermoacoustic instabilities_.\n",
    "\n",
    "More specifically, you will need to identify the following relation:\n",
    "\\begin{equation}\n",
    "\\dot{Q}'=\\mathcal{F}(u')\n",
    "\\end{equation}\n",
    "\n",
    "where $\\dot{Q}'$ and $u'$ represent the normalized heat release rate oscillation and the normalized velocity perturbation respectively.\n",
    "\n",
    "To do so, we are providing you with three different sets of time series of $(u'(t),\\dot{Q}'(t))$. Each of those time series have been obtained from simulation where the flame was excited with a broadband signal (meaning that there is a large frequency content in the excitation signal).\n",
    "\n",
    "The tasks for the project are:\n",
    "1. To train different neural networks for each dataset.\n",
    "2. To obtain the frequency response of each trained neural network for excitation amplitudes of 0.5, 1.0 and 1.5. Validations data are provided for you to assess the accuracy of your trained neural network.\n",
    "\n",
    "The frequency response is obtained by exciting the neural network with a harmonic signal (meaning a sine at a specified frequency with a fixed amplitude). Then, the gain (ratio between the resulting heat release rate signal and excitation signal: $\\dot{Q}'/u'$) and phase (the delay between the two signals) are computed.\n",
    "\n",
    "3. Study the accuracy of the trained neural network depending on the length of the training signal used."
   ]
  },
  {
   "cell_type": "markdown",
   "metadata": {
    "id": "IFd_JTZ3mOyp"
   },
   "source": [
    "The remainder of this notebook will indicate to you how to read the different data."
   ]
  },
  {
   "cell_type": "code",
   "execution_count": null,
   "metadata": {
    "id": "ppQMDDKinpzw"
   },
   "outputs": [],
   "source": [
    "from google.colab import drive\n",
    "drive.mount('/content/drive')"
   ]
  },
  {
   "cell_type": "code",
   "execution_count": null,
   "metadata": {
    "id": "2KbT7TezmOyq"
   },
   "outputs": [],
   "source": [
    "# load the required libraries\n",
    "import numpy as np\n",
    "import tensorflow\n",
    "import matplotlib.pyplot as plt\n",
    "from scipy import signal\n",
    "import os\n",
    "import h5py\n",
    "# pandas is a python library dedicated to data manipulation and analysis\n",
    "import pandas as pd"
   ]
  },
  {
   "cell_type": "markdown",
   "metadata": {
    "id": "aSxV2xVhmOyr"
   },
   "source": [
    "# 1. Read the input data"
   ]
  },
  {
   "cell_type": "code",
   "execution_count": null,
   "metadata": {
    "id": "BlGQz3G4mOyr"
   },
   "outputs": [],
   "source": [
    "# User defined variables, please provide necessary inputs\n",
    "# files with *_1.csv: associated with normalized excitation amplitude of 0.5\n",
    "# files with *_2.csv: associated with normalized excitation amplitude of 1.0\n",
    "# files with *_3.csv: associated with normalized excitation amplitude of 1.5\n",
    "\n",
    "fld = './drive/MyDrive/CYPHER_SCHOOL/'\n",
    "input_file = fld + \"Data/input_data_3.csv\" # location of input file\n",
    "output_file = fld + \"Data/output_data_3.csv\" # location of output file (true labels)\n",
    "Ts = 0.000001 # sampling time of the data - The data has been sampled with a sampling time of 0.000001 [s]\n"
   ]
  },
  {
   "cell_type": "code",
   "execution_count": null,
   "metadata": {
    "id": "zDss7TfZmOyt",
    "outputId": "888c0ddb-23b3-46a1-ad62-e4a394865a59",
    "scrolled": true
   },
   "outputs": [],
   "source": [
    "# load dataset\n",
    "X_ = pd.read_csv(input_file, header=None)\n",
    "Y_ = pd.read_csv(output_file, header=None)\n",
    "T_ = np.arange(X_.shape[0], dtype=int)*Ts\n",
    "X_ = X_[10000:]\n",
    "Y_ = Y_[10000:]\n",
    "T_ = T_[10000:] - T_[10000]\n",
    "m = X_.shape[0] # number of input data points\n",
    "\n",
    "%matplotlib inline\n",
    "plt.figure()\n",
    "plt.plot(T_,X_)\n",
    "plt.plot(T_,Y_)"
   ]
  },
  {
   "cell_type": "markdown",
   "metadata": {
    "id": "pGLJZ7eJmOyv"
   },
   "source": [
    "# 2. Validation data\n",
    "As explained, the validation is going to be performed by comparing the frequency response of the neural network and the one from CFD.\n",
    "The data from the CFD is provided and we show in the code hereunder how to plot it. Each entry corresponds to the Gain and phase computed by performing a CFD simulation with mono-frequent excitation at a given amplitude."
   ]
  },
  {
   "cell_type": "code",
   "execution_count": null,
   "metadata": {
    "id": "DNPd8sWOmOyv"
   },
   "outputs": [],
   "source": [
    "fln = fld + './Validation_data/Flame_valid_data.h5'\n",
    "hf = h5py.File(fln,'r')\n",
    "list(hf.keys())\n",
    "FDF_freq = np.array(hf.get('f'))\n",
    "FDF_Gain = np.array(hf.get('Gain'))\n",
    "FDF_phase = np.array(hf.get('phase'))"
   ]
  },
  {
   "cell_type": "markdown",
   "metadata": {
    "id": "4CSMw8DimOyw"
   },
   "source": [
    "Each line of those arrays corresponds to excitation amplitude of respectively 0.5, 1.0 and 1.5. For each excitation amplitude, mono-frequent simulations were carried out from which the gain and phase were extracted."
   ]
  },
  {
   "cell_type": "code",
   "execution_count": null,
   "metadata": {
    "id": "C-aqofhTmOyw",
    "outputId": "f34fad9c-b7c7-418e-cf7b-738f30ef8a96"
   },
   "outputs": [],
   "source": [
    "%matplotlib inline\n",
    "fig = plt.figure()\n",
    "ax = fig.add_subplot(121)\n",
    "ax2 = fig.add_subplot(122)\n",
    "\n",
    "for i in range(3):\n",
    "    ax.plot(FDF_freq[i,:],FDF_Gain[i,:])\n",
    "    ax2.plot(FDF_freq[i,:],FDF_phase[i,:])\n",
    "\n",
    "ax.set_xlabel('Frequency [Hz]')\n",
    "ax.set_ylabel('Gain [-]')\n",
    "ax2.set_xlabel('Frequency [Hz]')\n",
    "ax2.set_ylabel('Phase delay [rad]')"
   ]
  },
  {
   "cell_type": "markdown",
   "metadata": {
    "id": "kldVxba2mOyu"
   },
   "source": [
    "# 3. Design of the neural network\n"
   ]
  },
  {
   "cell_type": "markdown",
   "metadata": {
    "id": "i5RISEYPoFXk"
   },
   "source": [
    "In this section, design a neural network which receives as input a given history of velocity fluctuation and predicts the heat release rate fluctuation at one time instant. For the exercise, attempts both to use a MLP and a RNN for the same task.\n",
    "To design the network account for the following elements:\n",
    " - The flame is laminar.\n",
    " - We are only interested in the frequency response up to 1kHz while the sampling frequency is of 1MHz. Therefore, it is quite possible to downsample the signals in time.\n",
    " - The time-series of history to provide to the network to predict $\\dot{Q}'$ should be ~10ms."
   ]
  },
  {
   "cell_type": "code",
   "execution_count": null,
   "metadata": {
    "id": "tjxD2-sEmOyx"
   },
   "outputs": [],
   "source": []
  }
 ],
 "metadata": {
  "colab": {
   "provenance": []
  },
  "kernelspec": {
   "display_name": "Python 3 (ipykernel)",
   "language": "python",
   "name": "python3"
  },
  "language_info": {
   "codemirror_mode": {
    "name": "ipython",
    "version": 3
   },
   "file_extension": ".py",
   "mimetype": "text/x-python",
   "name": "python",
   "nbconvert_exporter": "python",
   "pygments_lexer": "ipython3",
   "version": "3.9.15"
  }
 },
 "nbformat": 4,
 "nbformat_minor": 1
}
